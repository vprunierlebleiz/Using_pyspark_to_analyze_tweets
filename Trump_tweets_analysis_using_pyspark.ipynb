{
 "cells": [
  {
   "cell_type": "code",
   "execution_count": 1,
   "metadata": {},
   "outputs": [],
   "source": [
    "######################### TRUMP TWEETS ########################\n",
    "\n",
    "# Our work on PyrSpark aims at a better understanding of the Twitter behaviour of \n",
    "# Donald Trump the president of the United States of America.\n"
   ]
  },
  {
   "cell_type": "code",
   "execution_count": 2,
   "metadata": {},
   "outputs": [],
   "source": [
    "# Firstly we have imported our data base called Working with Key Value RDD Trump_Tweets \n",
    "# and printed one text to check what a tweet there would look like."
   ]
  },
  {
   "cell_type": "code",
   "execution_count": 3,
   "metadata": {},
   "outputs": [],
   "source": [
    "import pyspark\n",
    "\n",
    "sc = pyspark.SparkContext(appName=\"Working with Key Value RDD Trump_Tweets\")"
   ]
  },
  {
   "cell_type": "code",
   "execution_count": 4,
   "metadata": {},
   "outputs": [],
   "source": [
    "rdd_Trump = sc.textFile('trump_tweets.txt')"
   ]
  },
  {
   "cell_type": "code",
   "execution_count": 5,
   "metadata": {},
   "outputs": [
    {
     "data": {
      "text/plain": [
       "['Republicans and Democrats have both created our economic problems.;02/08/2011 18:07:48']"
      ]
     },
     "execution_count": 5,
     "metadata": {},
     "output_type": "execute_result"
    }
   ],
   "source": [
    "rdd_Trump.take(1)"
   ]
  },
  {
   "cell_type": "code",
   "execution_count": 6,
   "metadata": {},
   "outputs": [],
   "source": [
    "## To make the data easier to manipulate we have decided to lower all the letters in tweets\n",
    "# This step enabled us to get rid of doubles or even even some wors that could have been \n",
    "# also written in all caps. We've printed those after to check that everything was correct "
   ]
  },
  {
   "cell_type": "code",
   "execution_count": 7,
   "metadata": {},
   "outputs": [
    {
     "data": {
      "text/plain": [
       "[('republicans and democrats have both created our economic problems.;02/08/2011 18:07:48',\n",
       "  1),\n",
       " ('i was thrilled to be back in the great city of charlotte, north carolina with thousands of hardworking american patriots who love our country, cherish our values, respect our laws, and always put america first! thank you for a wonderful evening!! #kag2020 https://t.co/dnjzfrsl9y;03/03/2020 01:34:50',\n",
       "  1),\n",
       " ('rt @cbs_herridge: read: letter to surveillance court obtained by cbs news questions where there will be further disciplinary action and cho…;17/01/2020 03:22:47',\n",
       "  1),\n",
       " ('the unsolicited mail in ballot scam is a major threat to our democracy, &amp  the democrats know it. almost all recent elections using this system, even though much smaller &amp   with far fewer ballots to count, have ended up being a disaster. large numbers of missing ballots &amp  fraud!;12/09/2020 20:10:58',\n",
       "  1),\n",
       " (\"rt @mzhemingway: very friendly telling of events here about comey's apparent leaking to compliant media. if you read those articles and tho…;17/01/2020 13:13:59\",\n",
       "  1),\n",
       " ('rt @whitehouse: president @realdonaldtrump announced historic steps to protect the constitutional right to pray in public schools! https://…;17/01/2020 00:11:56',\n",
       "  1),\n",
       " ('“i’m running as a proud democrat, for the senate”. sleepy joe biden today. it’s only going to get worse. it is not sustainable for our county - china will own us!!!!;12/10/2020 22:22:39',\n",
       "  1),\n",
       " ('getting a little exercise this morning! https://t.co/fyaacbhbgk;01/02/2020 16:14:02',\n",
       "  1),\n",
       " ('https://t.co/4qwckqoiow;23/10/2020 04:52:14', 1),\n",
       " ('https://t.co/vleu8yyovv;23/10/2020 04:46:53', 1)]"
      ]
     },
     "execution_count": 7,
     "metadata": {},
     "output_type": "execute_result"
    }
   ],
   "source": [
    "rdd_Trump.map( lambda word: ( word.lower(), 1 ) ).take(10)"
   ]
  },
  {
   "cell_type": "code",
   "execution_count": 8,
   "metadata": {},
   "outputs": [],
   "source": [
    "rdd_Trump_lowered = rdd_Trump.map(lambda word: word.lower())"
   ]
  },
  {
   "cell_type": "code",
   "execution_count": 9,
   "metadata": {},
   "outputs": [],
   "source": [
    "# The total amount of tweet in our data base is of 58 681."
   ]
  },
  {
   "cell_type": "code",
   "execution_count": 10,
   "metadata": {},
   "outputs": [
    {
     "data": {
      "text/plain": [
       "58681"
      ]
     },
     "execution_count": 10,
     "metadata": {},
     "output_type": "execute_result"
    }
   ],
   "source": [
    "rdd_Trump_lowered.count()"
   ]
  },
  {
   "cell_type": "code",
   "execution_count": 11,
   "metadata": {},
   "outputs": [
    {
     "data": {
      "text/plain": [
       "('d democrats have both created our economic problems.;02/08/2011 18:07:4',\n",
       " 'nd democrats have both created our economic problems.;02/')"
      ]
     },
     "execution_count": 11,
     "metadata": {},
     "output_type": "execute_result"
    }
   ],
   "source": [
    "# We used this utility function parsing a line of our file and return a tuple containing\n",
    "# the tweet, the date and hour\n",
    "\n",
    "def parse_Trump_line(line):\n",
    "    subs = '</title><text>'\n",
    "    i = line.find(subs)\n",
    "    title = line[14:i]\n",
    "    text = line[i+len(subs):len(line)-16]\n",
    "    return (title, text)\n",
    "\n",
    "parse_Trump_line(rdd_Trump_lowered.take(1)[0])"
   ]
  },
  {
   "cell_type": "code",
   "execution_count": 12,
   "metadata": {},
   "outputs": [
    {
     "data": {
      "text/plain": [
       "['republicans',\n",
       " 'and',\n",
       " 'democrats',\n",
       " 'have',\n",
       " 'both',\n",
       " 'created',\n",
       " 'our',\n",
       " 'economic',\n",
       " 'problems.;02/08/2011',\n",
       " '18:07:48']"
      ]
     },
     "execution_count": 12,
     "metadata": {},
     "output_type": "execute_result"
    }
   ],
   "source": [
    "# We used the utility function to split each line into individual words by using multiple separators\n",
    "\n",
    "import re\n",
    "\n",
    "def split_with_multiple_separator(string_value):\n",
    "    return re.split('#|,| |\\[|\\]', string_value.strip())\n",
    "\n",
    "split_with_multiple_separator(rdd_Trump_lowered.take(1)[0])"
   ]
  },
  {
   "cell_type": "code",
   "execution_count": 13,
   "metadata": {},
   "outputs": [
    {
     "data": {
      "text/plain": [
       "['republicans', 'and', 'democrats', 'have', 'both']"
      ]
     },
     "execution_count": 13,
     "metadata": {},
     "output_type": "execute_result"
    }
   ],
   "source": [
    "# As seen in class, we've computed an rdd with individual words (rdd_Trump_lowered_words) from the rdd_Trump_lowered by using the previous function\n",
    "\n",
    "rdd_Trump_lowered_words = rdd_Trump_lowered.flatMap(split_with_multiple_separator).filter(lambda word: word!='')\n",
    "\n",
    "rdd_Trump_lowered_words.take(5)"
   ]
  },
  {
   "cell_type": "code",
   "execution_count": 14,
   "metadata": {},
   "outputs": [],
   "source": [
    "# This action has been successful since any of these are containing empty strings"
   ]
  },
  {
   "cell_type": "code",
   "execution_count": 15,
   "metadata": {},
   "outputs": [
    {
     "data": {
      "text/plain": [
       "[('republicans', 1), ('and', 1), ('democrats', 1), ('have', 1), ('both', 1)]"
      ]
     },
     "execution_count": 15,
     "metadata": {},
     "output_type": "execute_result"
    }
   ],
   "source": [
    "#  We have then initialized an rdd with key/value for counting each word in the file \n",
    "\n",
    "rdd_Trump_lowered_words_kv = rdd_Trump_lowered_words.map(lambda word: (word, 1))\n",
    "\n",
    "rdd_Trump_lowered_words_kv.take(5)"
   ]
  },
  {
   "cell_type": "code",
   "execution_count": 16,
   "metadata": {},
   "outputs": [],
   "source": [
    "###### As a third step we've extracted top positives words from tweets"
   ]
  },
  {
   "cell_type": "code",
   "execution_count": 17,
   "metadata": {},
   "outputs": [
    {
     "data": {
      "text/plain": [
       "['a+', 'abound', 'abounds', 'abundance', 'abundant']"
      ]
     },
     "execution_count": 17,
     "metadata": {},
     "output_type": "execute_result"
    }
   ],
   "source": [
    "rdd_positive_words = sc.textFile('positive-words.txt')\n",
    "\n",
    "rdd_positive_words.take(5)"
   ]
  },
  {
   "cell_type": "code",
   "execution_count": 18,
   "metadata": {},
   "outputs": [
    {
     "data": {
      "text/plain": [
       "[('a+', 1), ('abound', 1), ('abounds', 1), ('abundance', 1), ('abundant', 1)]"
      ]
     },
     "execution_count": 18,
     "metadata": {},
     "output_type": "execute_result"
    }
   ],
   "source": [
    "# We've initialized an rdd with key/value for counting each positive word in the file \n",
    "\n",
    "rdd_positive_words_kv = rdd_positive_words.map(lambda word: (word, 1))\n",
    "\n",
    "rdd_positive_words_kv.take(5)"
   ]
  },
  {
   "cell_type": "code",
   "execution_count": 19,
   "metadata": {},
   "outputs": [
    {
     "data": {
      "text/plain": [
       "[('thrilled', (1, 1)),\n",
       " ('thrilled', (1, 1)),\n",
       " ('thrilled', (1, 1)),\n",
       " ('thrilled', (1, 1)),\n",
       " ('thrilled', (1, 1))]"
      ]
     },
     "execution_count": 19,
     "metadata": {},
     "output_type": "execute_result"
    }
   ],
   "source": [
    "rdd_positive_words_Trump_kv = rdd_Trump_lowered_words_kv.join(rdd_positive_words_kv)\n",
    "\n",
    "rdd_positive_words_Trump_kv.take(5)\n"
   ]
  },
  {
   "cell_type": "code",
   "execution_count": 20,
   "metadata": {},
   "outputs": [
    {
     "data": {
      "text/plain": [
       "[('thrilled', 1),\n",
       " ('thrilled', 1),\n",
       " ('thrilled', 1),\n",
       " ('thrilled', 1),\n",
       " ('thrilled', 1)]"
      ]
     },
     "execution_count": 20,
     "metadata": {},
     "output_type": "execute_result"
    }
   ],
   "source": [
    "# We then used the mapValues transformation to assign a default count of one for each positive word\n",
    "\n",
    "rdd_positive_words_Trump_kv = rdd_positive_words_Trump_kv.mapValues(lambda tuple: 1)\n",
    "\n",
    "rdd_positive_words_Trump_kv.take(5)"
   ]
  },
  {
   "cell_type": "code",
   "execution_count": 21,
   "metadata": {},
   "outputs": [
    {
     "data": {
      "text/plain": [
       "[('thrilled', 46),\n",
       " ('wonderful', 465),\n",
       " ('right', 727),\n",
       " ('sustainable', 1),\n",
       " ('best', 1113)]"
      ]
     },
     "execution_count": 21,
     "metadata": {},
     "output_type": "execute_result"
    }
   ],
   "source": [
    "# We have then computed the amount of occurences to be able to handle the datas\n",
    "\n",
    "rdd_positive_words_Trump_count_kv = rdd_positive_words_Trump_kv.reduceByKey(lambda x,y : x+y)\n",
    "\n",
    "\n",
    "rdd_positive_words_Trump_count_kv.take(5)"
   ]
  },
  {
   "cell_type": "code",
   "execution_count": 22,
   "metadata": {},
   "outputs": [
    {
     "data": {
      "text/plain": [
       "[('great', 6669),\n",
       " ('trump', 4795),\n",
       " ('thank', 3424),\n",
       " ('like', 1973),\n",
       " ('good', 1602),\n",
       " ('love', 1116),\n",
       " ('best', 1113),\n",
       " ('work', 792),\n",
       " ('win', 752),\n",
       " ('right', 727),\n",
       " ('better', 690),\n",
       " ('strong', 666),\n",
       " ('well', 564),\n",
       " ('congratulations', 549),\n",
       " ('support', 544),\n",
       " ('happy', 530),\n",
       " ('amazing', 472),\n",
       " ('wonderful', 465),\n",
       " ('honor', 412),\n",
       " ('nice', 400),\n",
       " ('beautiful', 391),\n",
       " ('important', 385),\n",
       " ('incredible', 355),\n",
       " ('fantastic', 347),\n",
       " ('greatest', 338)]"
      ]
     },
     "execution_count": 22,
     "metadata": {},
     "output_type": "execute_result"
    }
   ],
   "source": [
    "# rdd_positive_words_Trump_count_kv_ordered contains the previous RDD in descending order based on the count\n",
    "# These information allow us to get a first overall idea of the general kind of vocabulary used\n",
    "# It also provides information about the personna\n",
    "\n",
    "rdd_positive_words_Trump_count_kv_ordered = rdd_positive_words_Trump_count_kv.sortBy(lambda tuple: tuple[1], ascending=False)\n",
    "\n",
    "list_top_positives_opinion = rdd_positive_words_Trump_count_kv_ordered.take(25)\n",
    "\n",
    "list_top_positives_opinion"
   ]
  },
  {
   "cell_type": "code",
   "execution_count": 23,
   "metadata": {},
   "outputs": [],
   "source": [
    "# We have then done the same operations regarding the negative words. "
   ]
  },
  {
   "cell_type": "code",
   "execution_count": 24,
   "metadata": {},
   "outputs": [
    {
     "data": {
      "text/plain": [
       "['2-faced', '2-faces', 'abnormal', 'abolish', 'abominable']"
      ]
     },
     "execution_count": 24,
     "metadata": {},
     "output_type": "execute_result"
    }
   ],
   "source": [
    "rdd_negative_words = sc.textFile('negative-words.txt')\n",
    "\n",
    "rdd_negative_words.take(5)"
   ]
  },
  {
   "cell_type": "code",
   "execution_count": 25,
   "metadata": {},
   "outputs": [
    {
     "data": {
      "text/plain": [
       "[('2-faced', 1),\n",
       " ('2-faces', 1),\n",
       " ('abnormal', 1),\n",
       " ('abolish', 1),\n",
       " ('abominable', 1)]"
      ]
     },
     "execution_count": 25,
     "metadata": {},
     "output_type": "execute_result"
    }
   ],
   "source": [
    "rdd_negative_words_kv = rdd_negative_words.map(lambda word: (word, 1))\n",
    "\n",
    "rdd_negative_words_kv.take(5)"
   ]
  },
  {
   "cell_type": "code",
   "execution_count": 26,
   "metadata": {},
   "outputs": [],
   "source": [
    "rdd_negative_words_Trump_kv = rdd_Trump_lowered_words_kv.join(rdd_negative_words_kv)"
   ]
  },
  {
   "cell_type": "code",
   "execution_count": 27,
   "metadata": {},
   "outputs": [
    {
     "data": {
      "text/plain": [
       "[('threat', 1),\n",
       " ('threat', 1),\n",
       " ('threat', 1),\n",
       " ('threat', 1),\n",
       " ('threat', 1),\n",
       " ('threat', 1),\n",
       " ('threat', 1),\n",
       " ('threat', 1),\n",
       " ('threat', 1),\n",
       " ('threat', 1)]"
      ]
     },
     "execution_count": 27,
     "metadata": {},
     "output_type": "execute_result"
    }
   ],
   "source": [
    "rdd_negative_words_Trump_kv = rdd_negative_words_Trump_kv.mapValues(lambda tuple:1)\n",
    "\n",
    "rdd_negative_words_Trump_kv.take(10)"
   ]
  },
  {
   "cell_type": "code",
   "execution_count": 28,
   "metadata": {},
   "outputs": [
    {
     "data": {
      "text/plain": [
       "[('threat', 72),\n",
       " ('dishonest', 169),\n",
       " ('lost', 323),\n",
       " ('fraud', 127),\n",
       " ('killed', 159)]"
      ]
     },
     "execution_count": 28,
     "metadata": {},
     "output_type": "execute_result"
    }
   ],
   "source": [
    "rdd_negative_words_Trump_count_kv = rdd_negative_words_Trump_kv.reduceByKey(lambda x,y: x+y)\n",
    "\n",
    "rdd_negative_words_Trump_count_kv.take(5)"
   ]
  },
  {
   "cell_type": "code",
   "execution_count": 29,
   "metadata": {},
   "outputs": [
    {
     "data": {
      "text/plain": [
       "[('fake', 1191),\n",
       " ('bad', 831),\n",
       " ('hard', 654),\n",
       " ('crime', 455),\n",
       " ('crooked', 435),\n",
       " ('illegal', 384),\n",
       " ('radical', 381),\n",
       " ('lost', 323),\n",
       " ('corrupt', 317),\n",
       " ('terrible', 307),\n",
       " ('collusion', 278),\n",
       " ('wrong', 273),\n",
       " ('miss', 269),\n",
       " ('attack', 249),\n",
       " ('failing', 248),\n",
       " ('failed', 246),\n",
       " ('worst', 244),\n",
       " ('phony', 219),\n",
       " ('weak', 208),\n",
       " ('badly', 201),\n",
       " ('crazy', 199),\n",
       " ('problem', 190),\n",
       " ('hoax', 183),\n",
       " ('hate', 183),\n",
       " ('destroy', 175)]"
      ]
     },
     "execution_count": 29,
     "metadata": {},
     "output_type": "execute_result"
    }
   ],
   "source": [
    "rdd_negative_words_Trump_count_kv_ordered = rdd_negative_words_Trump_count_kv.sortBy(lambda tuple: tuple[1], ascending=False)\n",
    "\n",
    "list_top_negatives_opinion = rdd_negative_words_Trump_count_kv_ordered.take(25)\n",
    "\n",
    "list_top_negatives_opinion"
   ]
  },
  {
   "cell_type": "code",
   "execution_count": 30,
   "metadata": {},
   "outputs": [],
   "source": [
    "## Visualization of polarized opinions from Tweets"
   ]
  },
  {
   "cell_type": "code",
   "execution_count": 31,
   "metadata": {},
   "outputs": [],
   "source": [
    "# the utility function plot_opinion plots a bar chart presenting top positives and top negatives words\n",
    "# the parameters are list of tuples containing counts from positives and negatives words\n",
    "\n",
    "from matplotlib import pyplot as plt\n",
    "import seaborn as sb\n",
    "\n",
    "import pandas as pd\n",
    "\n",
    "def plot_opinion(list_positives, list_negatives):\n",
    "    \n",
    "    list_1 = [(t[0], t[1], 'positive') for t in list_positives]\n",
    "    list_2 = [(t[0], t[1], 'negative') for t in list_negatives]\n",
    "    \n",
    "     \n",
    "    list_1.extend(list_2)\n",
    "    \n",
    "    \n",
    "    pd_df = pd.DataFrame({\n",
    "     'Opinion': [ t[0] for t in list_1 ],\n",
    "     'Count': [ t[1] for t in list_1 ],\n",
    "     'polarity': [ t[2] for t in list_1 ]\n",
    "    }).sort_values('Count', ascending=False)\n",
    "    \n",
    "    pd_df['color'] = pd_df.polarity.apply(lambda polarity: 'green' if polarity=='positive' else 'red')\n",
    "    \n",
    "    plt.figure( figsize = (15, 8) )\n",
    "    chart=sb.barplot(data=pd_df, x='Opinion', y='Count', hue='polarity', palette=[\"green\", \"red\"], order=pd_df['Opinion'])\n",
    "    chart.set_xticklabels(\n",
    "    chart.get_xticklabels(), \n",
    "    rotation=80, \n",
    "    horizontalalignment='right',\n",
    "    fontweight='light',\n",
    "    fontsize='x-large',\n",
    "    )\n",
    "    \n",
    "    for tick, color in zip(chart.get_xticklabels(), pd_df['color']): \n",
    "        tick.set_color(color)\n",
    "    \n",
    "    plt.show()"
   ]
  },
  {
   "cell_type": "code",
   "execution_count": 32,
   "metadata": {},
   "outputs": [
    {
     "data": {
      "image/png": "[encoded data removed]",
      "text/plain": [
       "<Figure size 1080x576 with 1 Axes>"
      ]
     },
     "metadata": {
      "needs_background": "light"
     },
     "output_type": "display_data"
    }
   ],
   "source": [
    "plot_opinion(list_top_positives_opinion, list_top_negatives_opinion)"
   ]
  },
  {
   "cell_type": "code",
   "execution_count": 33,
   "metadata": {},
   "outputs": [],
   "source": [
    "## As a first obsession, xwe are not so surprised about the word \"great\" making it to the top of the list\n",
    "# Indeed, great is part of it's catch phrase of the elections \"Make America Great Again\". However, the word \"Trump\" seems to be more there because of it being it's last name than because of the adjective \"Trump\n",
    "# Fake seems to go one in hand with it's recurrent allegations to \"Fake News\", it is no surprise that this one that he uses to defend hisself and political partee is the one making it to the impressing amount of simple positive words.\n",
    "# The crime, croocked and illegal words seem to be referending to the past elections."
   ]
  },
  {
   "cell_type": "code",
   "execution_count": 34,
   "metadata": {},
   "outputs": [],
   "source": [
    "# Step 5: Visualizing contextual words from product reviews"
   ]
  },
  {
   "cell_type": "code",
   "execution_count": 35,
   "metadata": {},
   "outputs": [
    {
     "data": {
      "text/plain": [
       "['a',\n",
       " 'about',\n",
       " 'above',\n",
       " 'across',\n",
       " 'after',\n",
       " 'afterwards',\n",
       " 'again',\n",
       " 'against',\n",
       " 'all',\n",
       " 'almost',\n",
       " 'alone',\n",
       " 'along',\n",
       " 'already',\n",
       " 'also',\n",
       " 'although',\n",
       " 'always',\n",
       " 'am',\n",
       " 'among',\n",
       " 'amongst',\n",
       " 'amoungst',\n",
       " 'amount',\n",
       " 'an',\n",
       " 'and',\n",
       " 'another',\n",
       " 'any']"
      ]
     },
     "execution_count": 35,
     "metadata": {},
     "output_type": "execute_result"
    }
   ],
   "source": [
    "# we read our stop words\n",
    "\n",
    "rdd_stop_words = sc.textFile('stop-words.txt')\n",
    "\n",
    "rdd_stop_words.take(25)"
   ]
  },
  {
   "cell_type": "code",
   "execution_count": 36,
   "metadata": {},
   "outputs": [
    {
     "data": {
      "text/plain": [
       "['action',\n",
       " 'action',\n",
       " 'action',\n",
       " 'action',\n",
       " 'action',\n",
       " 'action',\n",
       " 'action',\n",
       " 'action',\n",
       " 'action',\n",
       " 'action']"
      ]
     },
     "execution_count": 36,
     "metadata": {},
     "output_type": "execute_result"
    }
   ],
   "source": [
    "# We have then computed the neutral/contextual words RDD by using rdd_product_words, rdd_positive_words, rdd_negative_words and rdd_stop_words\n",
    "\n",
    "\n",
    "contextual_words = rdd_Trump_lowered_words.subtract(rdd_positive_words).subtract(rdd_negative_words).subtract(rdd_stop_words)\n",
    "\n",
    "\n",
    "contextual_words.take(10)"
   ]
  },
  {
   "cell_type": "code",
   "execution_count": 37,
   "metadata": {},
   "outputs": [
    {
     "data": {
      "text/plain": [
       "[('@realdonaldtrump', 8809),\n",
       " ('rt', 7902),\n",
       " ('&amp', 5437),\n",
       " ('president', 3563),\n",
       " ('just', 3238),\n",
       " ('people', 2833),\n",
       " ('new', 2419),\n",
       " ('big', 1853),\n",
       " ('make', 1797),\n",
       " ('america', 1734),\n",
       " ('\"rt', 1579),\n",
       " ('democrats', 1546),\n",
       " ('time', 1529),\n",
       " ('country', 1524),\n",
       " ('obama', 1457),\n",
       " ('going', 1453),\n",
       " ('donald', 1414),\n",
       " ('news', 1389),\n",
       " ('want', 1371),\n",
       " ('american', 1359),\n",
       " ('vote', 1321),\n",
       " ('need', 1165),\n",
       " ('u.s.', 1133),\n",
       " ('today', 1116),\n",
       " ('@realdonaldtrump:', 1089),\n",
       " ('think', 1073),\n",
       " ('really', 1067),\n",
       " ('run', 1058),\n",
       " ('doing', 1047),\n",
       " ('did', 1017),\n",
       " ('know', 986),\n",
       " ('media', 972),\n",
       " ('said', 947),\n",
       " ('job', 940),\n",
       " ('china', 925),\n",
       " ('years', 914),\n",
       " ('thanks', 887),\n",
       " ('way', 879),\n",
       " (\"don't\", 868),\n",
       " ('united', 854),\n",
       " ('house', 849),\n",
       " ('biden', 830),\n",
       " ('got', 825),\n",
       " ('state', 820),\n",
       " ('total', 807),\n",
       " ('day', 805),\n",
       " ('jobs', 805),\n",
       " ('hillary', 796),\n",
       " ('look', 784),\n",
       " ('states', 782)]"
      ]
     },
     "execution_count": 37,
     "metadata": {},
     "output_type": "execute_result"
    }
   ],
   "source": [
    "contextual_words_count_ordered = contextual_words.map(lambda word: (word, 1))\\\n",
    "                                                 .reduceByKey(lambda x,y : x+y)\\\n",
    "                                                 .sortBy(lambda tuple: tuple[1], ascending=False)\n",
    "\n",
    "list_top_contextual_words = contextual_words_count_ordered.take(50)  \n",
    "\n",
    "list_top_contextual_words"
   ]
  },
  {
   "cell_type": "code",
   "execution_count": 38,
   "metadata": {},
   "outputs": [],
   "source": [
    "# We've plotted the contextual words bar chart presenting top contextual words\n",
    "# the parameter are list of tuples containing counts from contextual words\n",
    "\n",
    "def plot_contextual_words(list_contextual_words):\n",
    "\n",
    "\n",
    "    pd_df = pd.DataFrame({\n",
    "        'Word':  [ t[0] for t in list_contextual_words ],\n",
    "        'Count': [ t[1] for t in list_contextual_words ]\n",
    "    }).sort_values('Count', ascending=False)\n",
    "    \n",
    "    plt.figure( figsize = (15, 8) )\n",
    "    \n",
    "    chart=sb.barplot(data=pd_df, x='Word', y='Count', order=pd_df['Word'], color='blue')\n",
    "    \n",
    "    chart.set_xticklabels(\n",
    "        chart.get_xticklabels(), \n",
    "        rotation=80, \n",
    "        horizontalalignment='right',\n",
    "        fontweight='light',\n",
    "        fontsize='x-large',\n",
    "        )\n",
    "   \n",
    "    plt.show()"
   ]
  },
  {
   "cell_type": "code",
   "execution_count": 39,
   "metadata": {},
   "outputs": [
    {
     "data": {
      "image/png": "[encoded data removed]",
      "text/plain": [
       "<Figure size 1080x576 with 1 Axes>"
      ]
     },
     "metadata": {
      "needs_background": "light"
     },
     "output_type": "display_data"
    }
   ],
   "source": [
    "plot_contextual_words(list_top_contextual_words)    "
   ]
  },
  {
   "cell_type": "code",
   "execution_count": 40,
   "metadata": {},
   "outputs": [],
   "source": [
    "# We can see that the slogan is part of the words. The @realdonaldtrump, rt (retweet) and so on shows that\n",
    "# The former president is using it's platform to interact with his audience and the democrats are behind quite a target with Obama, Hilary and China"
   ]
  },
  {
   "cell_type": "code",
   "execution_count": 41,
   "metadata": {},
   "outputs": [],
   "source": [
    "# Step 6: Computing the global sentiment/opinion score "
   ]
  },
  {
   "cell_type": "code",
   "execution_count": 42,
   "metadata": {},
   "outputs": [],
   "source": [
    "# Compute the global sentiment score: the total count of positive words (e.g. use rdd_positive_words_product_count_kv) minus\n",
    "# the total count of negative words (e.g. use rdd_negative_words_product_count_kv)\n",
    "\n",
    "\n",
    "sentiment_score = rdd_positive_words_Trump_count_kv.map(lambda tuple: tuple[1]).sum()\\\n",
    "                  - rdd_negative_words_Trump_count_kv.map(lambda tuple: tuple[1]).sum()"
   ]
  },
  {
   "cell_type": "code",
   "execution_count": 43,
   "metadata": {},
   "outputs": [
    {
     "name": "stdout",
     "output_type": "stream",
     "text": [
      "The sentiment score is :  22070\n"
     ]
    }
   ],
   "source": [
    "print('The sentiment score is : ',sentiment_score)"
   ]
  },
  {
   "cell_type": "code",
   "execution_count": 44,
   "metadata": {},
   "outputs": [],
   "source": [
    "# The sentiment score of this analysis is impressingly high."
   ]
  },
  {
   "cell_type": "code",
   "execution_count": 45,
   "metadata": {},
   "outputs": [],
   "source": [
    "# Wordcloud"
   ]
  },
  {
   "cell_type": "code",
   "execution_count": 46,
   "metadata": {},
   "outputs": [
    {
     "name": "stdout",
     "output_type": "stream",
     "text": [
      "Requirement already satisfied: wordcloud in /opt/conda/lib/python3.8/site-packages (1.8.1)\n",
      "Requirement already satisfied: numpy>=1.6.1 in /opt/conda/lib/python3.8/site-packages (from wordcloud) (1.19.4)\n",
      "Requirement already satisfied: matplotlib in /opt/conda/lib/python3.8/site-packages (from wordcloud) (3.3.3)\n",
      "Requirement already satisfied: pillow in /opt/conda/lib/python3.8/site-packages (from wordcloud) (8.0.1)\n",
      "Requirement already satisfied: kiwisolver>=1.0.1 in /opt/conda/lib/python3.8/site-packages (from matplotlib->wordcloud) (1.3.1)\n",
      "Requirement already satisfied: cycler>=0.10 in /opt/conda/lib/python3.8/site-packages (from matplotlib->wordcloud) (0.10.0)\n",
      "Requirement already satisfied: python-dateutil>=2.1 in /opt/conda/lib/python3.8/site-packages (from matplotlib->wordcloud) (2.8.1)\n",
      "Requirement already satisfied: pyparsing!=2.0.4,!=2.1.2,!=2.1.6,>=2.0.3 in /opt/conda/lib/python3.8/site-packages (from matplotlib->wordcloud) (2.4.7)\n",
      "Requirement already satisfied: six in /opt/conda/lib/python3.8/site-packages (from cycler>=0.10->matplotlib->wordcloud) (1.15.0)\n"
     ]
    }
   ],
   "source": [
    "!pip install wordcloud"
   ]
  },
  {
   "cell_type": "code",
   "execution_count": 47,
   "metadata": {},
   "outputs": [],
   "source": [
    "from pyspark.sql import SparkSession\n",
    "from wordcloud import WordCloud, STOPWORDS"
   ]
  },
  {
   "cell_type": "code",
   "execution_count": 48,
   "metadata": {},
   "outputs": [
    {
     "name": "stdout",
     "output_type": "stream",
     "text": [
      "Collecting package metadata (current_repodata.json): done\n",
      "Solving environment: done\n",
      "\n",
      "# All requested packages already installed.\n",
      "\n",
      "\n",
      "Note: you may need to restart the kernel to use updated packages.\n"
     ]
    }
   ],
   "source": [
    "conda install -c conda-forge wordcloud=1.6.0 "
   ]
  },
  {
   "cell_type": "code",
   "execution_count": 49,
   "metadata": {},
   "outputs": [
    {
     "data": {
      "image/png": "[encoded data removed]",
      "text/plain": [
       "<Figure size 432x288 with 1 Axes>"
      ]
     },
     "metadata": {
      "needs_background": "light"
     },
     "output_type": "display_data"
    },
    {
     "data": {
      "image/png": "[encoded data removed]",
      "text/plain": [
       "<Figure size 432x288 with 1 Axes>"
      ]
     },
     "metadata": {
      "needs_background": "light"
     },
     "output_type": "display_data"
    }
   ],
   "source": [
    "from os import path\n",
    "from PIL import Image\n",
    "import numpy as np\n",
    "import matplotlib.pyplot as plt\n",
    "import os\n",
    "\n",
    "from wordcloud import WordCloud, STOPWORDS, ImageColorGenerator\n",
    "\n",
    "# get data directory (using getcwd() is needed to support running example in generated IPython notebook)\n",
    "d = path.dirname('trump_tweets.txt')\n",
    "\n",
    "# Read the whole text.\n",
    "text = open(path.join(d, 'trump_tweets.txt')).read()\n",
    "\n",
    "trump_mask = np.array(Image.open(path.join(d, \"6.png\")))\n",
    "\n",
    "# read the mask / color image taken from\n",
    "trump_coloring = np.array(Image.open(path.join(d, \"6.png\")))\n",
    "stopwords = set(STOPWORDS)\n",
    "stopwords.add(\"https\")\n",
    "stopwords.add(\"co\")\n",
    "stopwords.add(\"t\")\n",
    "stopwords.add(\"amp\")\n",
    "\n",
    "wc = WordCloud(background_color=\"white\", max_words=1000,mask=trump_mask,\n",
    "               stopwords=stopwords, max_font_size=40, contour_width=3, contour_color='steelblue')\n",
    "# generate word cloud\n",
    "wc.generate(text)\n",
    "\n",
    "# create coloring from image\n",
    "image_colors = ImageColorGenerator(trump_coloring)\n",
    "\n",
    "# show\n",
    "plt.imshow(wc, interpolation='bilinear')\n",
    "plt.axis(\"off\")\n",
    "plt.figure()\n",
    "plt.imshow(trump_mask, cmap=plt.cm.gray, interpolation='bilinear')\n",
    "plt.axis(\"off\")\n",
    "plt.show()\n"
   ]
  },
  {
   "cell_type": "code",
   "execution_count": 50,
   "metadata": {},
   "outputs": [],
   "source": [
    "#Hashtags (#) and tags (@)"
   ]
  },
  {
   "cell_type": "code",
   "execution_count": 51,
   "metadata": {
    "scrolled": true
   },
   "outputs": [
    {
     "data": {
      "text/plain": [
       "['#ga…\";13/04/2020 00:33:38',\n",
       " '#trumppence2020 #kag2020 https://t.co/gegmunszoj\";02/03/2020 02:28:50',\n",
       " '#bidencrimefamiily;30/10/2020 06:37:17',\n",
       " '#vote #maga\";30/10/2020 19:03:33',\n",
       " '#maga #election2020 ',\n",
       " '#electionday #maga🇺🇸 https://t.co/j5f8vnzypi\";31/10/2020 14:49:31',\n",
       " '#electionday #maga🇺🇸 ',\n",
       " '#election2020 #maga🇺🇸 https://t.co/5eyxihjfib\";31/10/2020 23:51:29',\n",
       " '#latinosfortrump https://t.co/4vbxieiten\";01/11/2020 18:27:57',\n",
       " '#linemen for @realdonaldtrump https://t.co/1apu11eisa\";03/11/2020 01:49:49',\n",
       " '#trumpadvice http://t.co/u83adntvvp;13/11/2014 21:54:53',\n",
       " '#trumpvlog obama should be ashamed! http://t.co/gcugltxyzn;24/10/2014 15:30:38',\n",
       " '#trumpadvice https://t.co/fox2rhnxha;06/05/2015 21:47:01',\n",
       " '#imwithyou https://t.co/i8dhzezmy4;03/09/2016 11:39:03',\n",
       " '#americafirst #rncincle https://t.co/pvdta8htcc;21/07/2016 00:50:21',\n",
       " '#flashbackfriday #crookedhillary https://t.co/pvrbb7v4ng;10/06/2016 19:27:13',\n",
       " '#caucusfortrump #trump2016  https://t.co/ptuldxgpkp;05/03/2016 16:23:27',\n",
       " '#happynewyearamerica! https://t.co/eeqb8pdrue;01/01/2016 05:18:23',\n",
       " '#weeklyaddress🇺🇸 https://t.co/4qckkpbtcr;05/05/2017 19:43:37',\n",
       " '#stopthebias https://t.co/xqz599iqzw;29/08/2018 20:55:45',\n",
       " '#rnc2020 https://t.co/tinov1r5t6\";24/08/2020 17:41:56',\n",
       " '#demdebate  #democraticdebate\";08/02/2020 12:16:55',\n",
       " '#prayfornashville https://t.co/cja0lmg6vc;03/03/2020 17:34:28',\n",
       " '#promisesmadepromiseskept🇺🇸 https://t.co/yioxpzcnb7\";07/02/2020 16:45:44',\n",
       " '#pelositantrum\";05/02/2020 13:16:05',\n",
       " '#kag2020landslidevictory🇺🇸 https://t.co…\";08/03/2020 04:45:03',\n",
       " '#covid19 #usnavyalwaysthere https://t.co/bmozwijvrz\";28/03/2020 22:24:03',\n",
       " '#usmca will continue to raise family incomes and create even more g…\";16/01/2020 15:21:28',\n",
       " '#…\";08/02/2020 12:26:13',\n",
       " '#confirmacb https://t.co/inq26kvona\";13/10/2020 10:58:37',\n",
       " '#obamagate\";13/10/2020 11:13:46',\n",
       " '#covid19 #covid19updates',\n",
       " '#makeamericagreatagain',\n",
       " '#covidー19 https://t.co/p9j7kzsd7b https://t.co/rsuhrft8if\";31/03/2020 23:49:05',\n",
       " '#newhoaxsameswamp https://t.co/gig9r9txe0;16/11/2019 02:39:50',\n",
       " '#inthistogether 🇺🇸 https://t.co/l…\";01/05/2020 21:54:57',\n",
       " '#nancypelosifakenews',\n",
       " '#iranprotests2020 ',\n",
       " '#ira…\";13/01/2020 14:10:38',\n",
       " '#nancypelosifakenews https://t.co/a0ksphexcy\";13/01/2020 14:14:57',\n",
       " '#maga #superbowl ',\n",
       " '#iowacaucuses https://t.co/scbxdkvoag\";04/02/2020 14:44:37',\n",
       " '#iacaucus\";04/02/2020 14:43:20',\n",
       " '#sotu2020 https://t.co/w03gqlkdpo;05/02/2020 01:02:39',\n",
       " '#maga #wethepeople',\n",
       " '#goarmy | #usma2020 | #withvisionwelead https://t.co/sjmdixobon\";14/06/2020 03:27:27',\n",
       " '#trumptownhall\";06/03/2020 05:14:36',\n",
       " '#paycheckprotectionprogram numbers: 6,820 loans valued at more than $2,200,000,000. ',\n",
       " '#trumptownhall\";06/03/2020 05:17:33',\n",
       " '#throwbackthursday🇺🇸 https://t.co/8gd1oetu3h;12/12/2019 14:14:58']"
      ]
     },
     "execution_count": 51,
     "metadata": {},
     "output_type": "execute_result"
    }
   ],
   "source": [
    "rdd_Trump_lowered.filter(lambda word : word.startswith('#')).take(50) \n"
   ]
  },
  {
   "cell_type": "code",
   "execution_count": 52,
   "metadata": {},
   "outputs": [
    {
     "data": {
      "text/plain": [
       "484"
      ]
     },
     "execution_count": 52,
     "metadata": {},
     "output_type": "execute_result"
    }
   ],
   "source": [
    "rdd_Trump_lowered.filter(lambda word : word.startswith('#')).count() "
   ]
  },
  {
   "cell_type": "code",
   "execution_count": 53,
   "metadata": {},
   "outputs": [],
   "source": [
    "# The hashtag being used are one that would incite people to participate and create an online debate."
   ]
  },
  {
   "cell_type": "code",
   "execution_count": 54,
   "metadata": {},
   "outputs": [
    {
     "data": {
      "text/plain": [
       "['@realdona…\";25/10/2020 05:03:00',\n",
       " '@maggienyt  there has never been a time in either of my two campaigns when i felt we had a stronger chance of winning than we do right now. early voting reports look far stronger than originally anticipated. every rally is boffo. @markmeadows &amp  team are doing a fantastic job....;19/10/2020 17:27:21',\n",
       " '@garypeters\\' radical left policies would hurt michiganders. if peters wins, michigan loses. https://t.co…\";24/10/2020 15:55:40',\n",
       " '@realdonaldtrump is saying the best is yet to come!',\n",
       " '@joebiden was the committee chairman who launched the “high-tech lynching” against then judge clarence thom…\";27/10/2020 11:09:40',\n",
       " '@rebaforever58   yes.;19/05/2013 16:23:05',\n",
       " '@sbowlin1  thanks--you will love it.;30/11/2012 17:18:54',\n",
       " \"@revrome83 @celebapprentice @bretmichaels you won't be disappointed!;30/11/2012 17:18:12\",\n",
       " '@wandasalley  thanks--have fun!;28/12/2012 20:36:56',\n",
       " '@bf2088 thanks--and good luck.;05/12/2012 14:23:18',\n",
       " '@michaelrubinton work hard!;20/11/2012 21:50:58',\n",
       " '@utxgent  thanks;28/11/2012 16:29:23',\n",
       " '@spencerljackson  yes!;06/11/2012 16:25:52',\n",
       " '@mrdemain27 thanks darren.;13/02/2013 19:39:55',\n",
       " '@rrpsllc  thank you.;06/11/2013 15:18:04',\n",
       " '@905k9 thanks.;14/10/2013 15:39:49',\n",
       " '@jon_dennis82 @redskins  true.;08/10/2013 13:42:09',\n",
       " '@ewilli1204  thanks!;11/09/2013 16:57:38',\n",
       " '@alan_saranga thanks.;11/09/2013 19:17:13',\n",
       " '@mathewaiken great!;08/09/2013 00:36:44',\n",
       " '@tylerkrist734  thanks.;04/09/2013 20:03:13',\n",
       " '@peterthiele  thanks peter.;28/08/2013 13:57:34',\n",
       " '@ajshaw1003 great!;16/07/2013 18:55:00',\n",
       " '@therealkurse     so true!;06/07/2013 18:20:34',\n",
       " '@itsyknowsbest thanks!;20/05/2013 14:46:44',\n",
       " '@colvio117  thanks!;30/04/2013 12:13:07',\n",
       " '@piano807 wow!;26/04/2013 20:38:50',\n",
       " '@thenordicbroad thank you.;22/04/2013 16:07:47',\n",
       " '@__jibz true!;19/03/2013 17:53:08',\n",
       " '@shopgirlusa. good idea.;22/02/2013 22:23:48',\n",
       " '@mandielaurin good!;14/02/2013 21:30:33',\n",
       " '@moogoo3544 thanks.;06/02/2013 15:31:05',\n",
       " '@ridetheory  horses went up also!;29/01/2013 21:16:00',\n",
       " '@lynnfiorenzano thanks lynn!;29/01/2013 21:14:38',\n",
       " '@securitylecture  that is not the reason.;24/01/2013 13:57:38',\n",
       " '@seame_huntin est;10/01/2013 17:03:16',\n",
       " '@loveandgarbage  never said it, a total misquote.;16/02/2014 22:38:05',\n",
       " '@dualheadedeagle  true and thanks!;10/02/2014 12:29:24',\n",
       " '@russvought45 @markmeadows @ustreasury;20/05/2020 11:51:10',\n",
       " '@rea…\";08/02/2020 12:16:42',\n",
       " '@grege_iom. only in your weak mind!;19/05/2013 13:03:33',\n",
       " '@workplayeat   thanks, only the haters disagree!;19/05/2013 13:01:20',\n",
       " \"@craigheff   i don't, he makes me money!;19/05/2013 12:59:06\",\n",
       " '@sarahluvnyc   thanks.;19/05/2013 12:18:34',\n",
       " \"@subhana_anwar   it's easy, just think of haters as losers with.little imagination and even less understanding of success-and very lazy!;19/05/2013 12:16:23\",\n",
       " \"@carlyvowell   tell your friends son - you're fired tumor!;19/05/2013 04:28:57\",\n",
       " '@jedediahbila  tell your aunt she is terrific!;19/05/2013 02:15:10',\n",
       " \"@omegaphoenix068  rather amazing, wasn't it!;19/05/2013 01:59:14\",\n",
       " '@realdonaldtrump just signed the phase one trade agreement with china. ',\n",
       " '@realdonaldtrum…\";06/08/2020 04:19:44']"
      ]
     },
     "execution_count": 54,
     "metadata": {},
     "output_type": "execute_result"
    }
   ],
   "source": [
    "rdd_Trump_lowered.filter(lambda word : word.startswith('@')).take(50)"
   ]
  },
  {
   "cell_type": "code",
   "execution_count": 55,
   "metadata": {},
   "outputs": [
    {
     "data": {
      "text/plain": [
       "2613"
      ]
     },
     "execution_count": 55,
     "metadata": {},
     "output_type": "execute_result"
    }
   ],
   "source": [
    "rdd_Trump_lowered.filter(lambda word : word.startswith('@')).count() "
   ]
  },
  {
   "cell_type": "code",
   "execution_count": 56,
   "metadata": {},
   "outputs": [],
   "source": [
    "#  The people the former president has been talking to are more frequently random persons more than actual legit institutions or even just to announce big things\n",
    "# He is really taking his voters importance since he takes to time to thank a lot of persons. "
   ]
  },
  {
   "cell_type": "code",
   "execution_count": 57,
   "metadata": {},
   "outputs": [],
   "source": [
    "# The amount of @ against # shows that he is more likely to interact with persons than talk about subject with personnalized hashtags."
   ]
  }
 ],
 "metadata": {
  "kernelspec": {
   "display_name": "Python 3",
   "language": "python",
   "name": "python3"
  },
  "language_info": {
   "codemirror_mode": {
    "name": "ipython",
    "version": 3
   },
   "file_extension": ".py",
   "mimetype": "text/x-python",
   "name": "python",
   "nbconvert_exporter": "python",
   "pygments_lexer": "ipython3",
   "version": "3.8.6"
  }
 },
 "nbformat": 4,
 "nbformat_minor": 4
}
